{
  "nbformat": 4,
  "nbformat_minor": 0,
  "metadata": {
    "colab": {
      "name": "TRFL.ipynb",
      "version": "0.3.2",
      "provenance": [],
      "collapsed_sections": [],
      "include_colab_link": true
    },
    "kernelspec": {
      "name": "python2",
      "display_name": "Python 2"
    }
  },
  "cells": [
    {
      "cell_type": "markdown",
      "metadata": {
        "id": "view-in-github",
        "colab_type": "text"
      },
      "source": [
        "[View in Colaboratory](https://colab.research.google.com/github/diegolascasas/.emacs.d/blob/master/TRFL.ipynb)"
      ]
    },
    {
      "metadata": {
        "id": "PZp-_bWqyQMZ",
        "colab_type": "text"
      },
      "cell_type": "markdown",
      "source": [
        "##### Copyright 2018 The TRFL Authors.\n",
        "\n",
        "Licensed under the Apache License, Version 2.0 (the \"License\");"
      ]
    },
    {
      "metadata": {
        "id": "cYmkkN8HyP6N",
        "colab_type": "code",
        "colab": {}
      },
      "cell_type": "code",
      "source": [
        "#@title Licensed under the Apache License, Version 2.0 (the \"License\"); { display-mode: \"form\" }\n",
        "# you may not use this file except in compliance with the License.\n",
        "# You may obtain a copy of the License at\n",
        "#\n",
        "# https://www.apache.org/licenses/LICENSE-2.0\n",
        "#\n",
        "# Unless required by applicable law or agreed to in writing, software\n",
        "# distributed under the License is distributed on an \"AS IS\" BASIS,\n",
        "# WITHOUT WARRANTIES OR CONDITIONS OF ANY KIND, either express or implied.\n",
        "# See the License for the specific language governing permissions and\n",
        "# limitations under the License."
      ],
      "execution_count": 0,
      "outputs": []
    },
    {
      "metadata": {
        "id": "dTZmPftGxuRy",
        "colab_type": "code",
        "cellView": "form",
        "outputId": "ef8434d4-ff62-4866-c50e-0fe8bb1b40c8",
        "colab": {
          "base_uri": "https://localhost:8080/",
          "height": 472
        }
      },
      "cell_type": "code",
      "source": [
        "#@title Install packages\n",
        "!pip install --upgrade tfp-nightly\n",
        "!pip install --upgrade pycolab\n",
        "!pip install -q git+git://github.com/deepmind/trfl.git"
      ],
      "execution_count": 0,
      "outputs": [
        {
          "output_type": "stream",
          "text": [
            "Requirement already up-to-date: tfp-nightly in /usr/local/lib/python2.7/dist-packages (0.5.0.dev20181019)\n",
            "Requirement already satisfied, skipping upgrade: six>=1.10.0 in /usr/local/lib/python2.7/dist-packages (from tfp-nightly) (1.11.0)\n",
            "Requirement already satisfied, skipping upgrade: tf-nightly in /usr/local/lib/python2.7/dist-packages (from tfp-nightly) (1.13.0.dev20181019)\n",
            "Requirement already satisfied, skipping upgrade: numpy>=1.13.3 in /usr/local/lib/python2.7/dist-packages (from tfp-nightly) (1.14.6)\n",
            "Requirement already satisfied, skipping upgrade: tensorflow-estimator>=1.10.0 in /usr/local/lib/python2.7/dist-packages (from tf-nightly->tfp-nightly) (1.10.12)\n",
            "Requirement already satisfied, skipping upgrade: mock>=2.0.0 in /usr/local/lib/python2.7/dist-packages (from tf-nightly->tfp-nightly) (2.0.0)\n",
            "Requirement already satisfied, skipping upgrade: keras-applications>=1.0.6 in /usr/local/lib/python2.7/dist-packages (from tf-nightly->tfp-nightly) (1.0.6)\n",
            "Requirement already satisfied, skipping upgrade: grpcio>=1.8.6 in /usr/local/lib/python2.7/dist-packages (from tf-nightly->tfp-nightly) (1.15.0)\n",
            "Requirement already satisfied, skipping upgrade: enum34>=1.1.6 in /usr/local/lib/python2.7/dist-packages (from tf-nightly->tfp-nightly) (1.1.6)\n",
            "Requirement already satisfied, skipping upgrade: protobuf>=3.6.1 in /usr/local/lib/python2.7/dist-packages (from tf-nightly->tfp-nightly) (3.6.1)\n",
            "Requirement already satisfied, skipping upgrade: keras-preprocessing>=1.0.5 in /usr/local/lib/python2.7/dist-packages (from tf-nightly->tfp-nightly) (1.0.5)\n",
            "Requirement already satisfied, skipping upgrade: gast>=0.2.0 in /usr/local/lib/python2.7/dist-packages (from tf-nightly->tfp-nightly) (0.2.0)\n",
            "Requirement already satisfied, skipping upgrade: wheel in /usr/local/lib/python2.7/dist-packages (from tf-nightly->tfp-nightly) (0.32.1)\n",
            "Requirement already satisfied, skipping upgrade: absl-py>=0.1.6 in /usr/local/lib/python2.7/dist-packages (from tf-nightly->tfp-nightly) (0.5.0)\n",
            "Requirement already satisfied, skipping upgrade: backports.weakref>=1.0rc1 in /usr/local/lib/python2.7/dist-packages (from tf-nightly->tfp-nightly) (1.0.post1)\n",
            "Requirement already satisfied, skipping upgrade: termcolor>=1.1.0 in /usr/local/lib/python2.7/dist-packages (from tf-nightly->tfp-nightly) (1.1.0)\n",
            "Requirement already satisfied, skipping upgrade: tb-nightly<1.13.0a0,>=1.12.0a0 in /usr/local/lib/python2.7/dist-packages (from tf-nightly->tfp-nightly) (1.12.0a20181017)\n",
            "Requirement already satisfied, skipping upgrade: astor>=0.6.0 in /usr/local/lib/python2.7/dist-packages (from tf-nightly->tfp-nightly) (0.7.1)\n",
            "Requirement already satisfied, skipping upgrade: funcsigs>=1; python_version < \"3.3\" in /usr/local/lib/python2.7/dist-packages (from mock>=2.0.0->tf-nightly->tfp-nightly) (1.0.2)\n",
            "Requirement already satisfied, skipping upgrade: pbr>=0.11 in /usr/local/lib/python2.7/dist-packages (from mock>=2.0.0->tf-nightly->tfp-nightly) (5.0.0)\n",
            "Requirement already satisfied, skipping upgrade: h5py in /usr/local/lib/python2.7/dist-packages (from keras-applications>=1.0.6->tf-nightly->tfp-nightly) (2.8.0)\n",
            "Requirement already satisfied, skipping upgrade: futures>=2.2.0 in /usr/local/lib/python2.7/dist-packages (from grpcio>=1.8.6->tf-nightly->tfp-nightly) (3.2.0)\n",
            "Requirement already satisfied, skipping upgrade: setuptools in /usr/local/lib/python2.7/dist-packages (from protobuf>=3.6.1->tf-nightly->tfp-nightly) (40.4.3)\n",
            "Requirement already satisfied, skipping upgrade: werkzeug>=0.11.10 in /usr/local/lib/python2.7/dist-packages (from tb-nightly<1.13.0a0,>=1.12.0a0->tf-nightly->tfp-nightly) (0.14.1)\n",
            "Requirement already satisfied, skipping upgrade: markdown>=2.6.8 in /usr/local/lib/python2.7/dist-packages (from tb-nightly<1.13.0a0,>=1.12.0a0->tf-nightly->tfp-nightly) (3.0.1)\n",
            "Requirement already up-to-date: pycolab in /usr/local/lib/python2.7/dist-packages (1.1)\n",
            "Requirement already satisfied, skipping upgrade: six in /usr/local/lib/python2.7/dist-packages (from pycolab) (1.11.0)\n",
            "Requirement already satisfied, skipping upgrade: numpy>=1.9 in /usr/local/lib/python2.7/dist-packages (from pycolab) (1.14.6)\n"
          ],
          "name": "stdout"
        }
      ]
    },
    {
      "metadata": {
        "id": "YVOGA22MyVf0",
        "colab_type": "code",
        "cellView": "form",
        "colab": {}
      },
      "cell_type": "code",
      "source": [
        "#@title Imports\n",
        "import curses\n",
        "import matplotlib.pyplot as plt\n",
        "import pandas as pd\n",
        "import numpy as np\n",
        "import sonnet as snt\n",
        "import tensorflow as tf\n",
        "import tensorflow_probability as tfp\n",
        "import trfl\n",
        "import pycolab\n",
        "from pycolab import ascii_art\n",
        "from pycolab import human_ui\n",
        "from pycolab.prefab_parts import sprites as prefab_sprites\n",
        "from pycolab import rendering\n",
        "nest = tf.contrib.framework.nest\n",
        "np.warnings.filterwarnings('ignore')"
      ],
      "execution_count": 0,
      "outputs": []
    },
    {
      "metadata": {
        "id": "UMZJb7HbzVGH",
        "colab_type": "code",
        "cellView": "form",
        "colab": {}
      },
      "cell_type": "code",
      "source": [
        "#@title ChainWalk Environment and Base Agent.\n",
        "class Walker(prefab_sprites.MazeWalker):\n",
        "  \"\"\"PlayerSprite for chain-walking.\"\"\"\n",
        "\n",
        "  def __init__(self, corner, position, character):\n",
        "    super(Walker, self).__init__(\n",
        "        corner, position, character, impassable='')\n",
        "\n",
        "  def update(self, actions, board, layers, backdrop, things, the_plot):\n",
        "    del layers, backdrop, things   # Unused.\n",
        "    # Default reward is zero.\n",
        "    the_plot.add_reward(0.)\n",
        "    # Apply motion commands.\n",
        "    if actions == 0:    # walk leftward?\n",
        "      self._west(board, the_plot)\n",
        "    elif actions == 1:  # walk rightward?\n",
        "      self._east(board, the_plot)\n",
        "    # See if the game is over.\n",
        "    if self.position[1] == 0:\n",
        "      the_plot.add_reward(1.0)\n",
        "      the_plot.terminate_episode()\n",
        "    elif self.position[1] == (self.corner[1] - 1):\n",
        "      the_plot.add_reward(100.0)\n",
        "      the_plot.terminate_episode()\n",
        "\n",
        "class ChainWalk(object):\n",
        "  \"\"\"A pycolab chain environment.\"\"\"\n",
        "\n",
        "  def __init__(self):\n",
        "    self._renderer = rendering.ObservationToArray({'.': 0.0, 'P': 1.0})\n",
        "    self._current_game = None\n",
        "\n",
        "  def _game_factory(self):\n",
        "    return ascii_art.ascii_art_to_game(\n",
        "        ['...P...'], what_lies_beneath='.', sprites={'P': Walker})\n",
        "\n",
        "  def step(self, action):\n",
        "    # Create game engine on first step.\n",
        "    if self._current_game is None:\n",
        "      self._current_game = self._game_factory()\n",
        "      observations, reward, discount = self._current_game.its_showtime()\n",
        "    # Step engine with action.\n",
        "    else:\n",
        "      observations, reward, discount = self._current_game.play(action)\n",
        "    # Reset game engine if end of episode is reached.\n",
        "    if self._current_game.game_over:\n",
        "      self._current_game = None\n",
        "    return (self._renderer(observations), reward, discount)\n",
        "\n",
        "class BaseAgent(object):\n",
        "  \"\"\"A simple agent acting epsilon-greedily wrt learnable Q-values.\"\"\"\n",
        "\n",
        "  def setup(self, sess):\n",
        "    self.sess = sess\n",
        "\n",
        "  def __init__(self, obs_size, num_actions, epsilon):\n",
        "    self._last_obs, self._last_action = None, None  # Store latest obs/act.\n",
        "    self._num_actions, self._epsilon = num_actions, epsilon  # Policy args.    \n",
        "    self._create_placeholders()  # Placeholders to feed data in the TF graph.\n",
        "    self._create_qnet()  # Create Q function approximator.\n",
        "    self._epsilon_greedy()  # Epsilon-greedy policy.    \n",
        "    self._learning()  # RL-update.\n",
        "\n",
        "  def _create_qnet(self):\n",
        "    qnet = snt.Linear(num_actions)  # Q values function approximator.\n",
        "    self._q_tm1 = qnet(self._obs_tm1)  # Q values for `tm1` placeholder.\n",
        "    self._q_t = qnet(self._obs_t)  # Q values for `t` placeholder.\n",
        "\n",
        "  def _create_placeholders(self):\n",
        "    self._obs_tm1 = tf.placeholder(dtype=tf.float32, shape=(1, obs_size))\n",
        "    self._a_tm1 = tf.placeholder(dtype=tf.int32, shape=(1,))\n",
        "    self._reward_t = tf.placeholder(dtype=tf.float32, shape=(1,))\n",
        "    self._discount_t = tf.placeholder(dtype=tf.float32, shape=(1,))\n",
        "    self._obs_t = tf.placeholder(dtype=tf.float32, shape=(1, obs_size))\n",
        "\n",
        "  def _epsilon_greedy(self):\n",
        "    greedy_a = tf.cast(tf.argmax(self._q_t, axis=1), tf.int32)\n",
        "    random_a = tf.random_uniform(\n",
        "        shape=(1,), minval=0, maxval=self._num_actions, dtype=tf.int32)\n",
        "    explore = tf.random_uniform(shape=(), dtype=tf.float32) < self._epsilon\n",
        "    self._a_t = tf.cond(explore, lambda: random_a, lambda: greedy_a)\n",
        "\n",
        "  def _learning(self):\n",
        "    raise ValueError(\"Implement Learning Algorithm!\")\n",
        "\n",
        "  def step(self, obs, reward, discount):\n",
        "    # Select action.\n",
        "    action = self.sess.run(self._a_t, feed_dict={self._obs_t: obs})\n",
        "    # Learning update.\n",
        "    if self._last_obs is not None and self._last_action is not None:\n",
        "      feed_dict = {\n",
        "          self._obs_tm1: self._last_obs, self._a_tm1: self._last_action, \n",
        "          self._reward_t: [reward], self._discount_t: [discount], self._obs_t: obs}\n",
        "      self.sess.run(self._update_op, feed_dict=feed_dict)\n",
        "    # Store relevant data\n",
        "    self._last_obs, self._last_action = None, None\n",
        "    if discount != 0:\n",
        "      self._last_obs, self._last_action = obs, action\n",
        "    return action"
      ],
      "execution_count": 0,
      "outputs": []
    },
    {
      "metadata": {
        "id": "riYIcJmj0Xs_",
        "colab_type": "code",
        "outputId": "e766e61d-77f2-4af9-f6bf-67603036cb2c",
        "colab": {
          "base_uri": "https://localhost:8080/",
          "height": 412
        },
        "cellView": "form"
      },
      "cell_type": "code",
      "source": [
        "#@title Qlearning Agent.\n",
        "class Qlearning(BaseAgent):\n",
        "  \"\"\"A Q-learning agent.\"\"\"\n",
        "\n",
        "  def _learning(self):\n",
        "    loss, _ = trfl.qlearning(\n",
        "        self._q_tm1, self._a_tm1, self._reward_t, self._discount_t, self._q_t)\n",
        "    self._update_op = tf.train.AdamOptimizer(learning_rate=0.01).minimize(loss)\n",
        "\n",
        "# TF setup.\n",
        "tf.reset_default_graph()\n",
        "tf.set_random_seed(42)\n",
        "\n",
        "# Train agent.\n",
        "rewards = []\n",
        "game = ChainWalk()\n",
        "agent = Qlearning(7, 3, 0.2)\n",
        "\n",
        "with tf.train.MonitoredSession() as sess:\n",
        "  agent.setup(sess)\n",
        "  obs, reward, discount = game.step(2)\n",
        "  for _ in xrange(1000):\n",
        "    action = agent.step(obs, reward, discount)\n",
        "    obs, reward, discount = game.step(action)\n",
        "    rewards.append(reward)\n",
        "\n",
        "# Plot average reward per step.\n",
        "smoothed_rewards = pd.rolling_mean(pd.DataFrame(rewards), window=50)\n",
        "plt.plot(smoothed_rewards)"
      ],
      "execution_count": 0,
      "outputs": [
        {
          "output_type": "stream",
          "text": [
            "INFO:tensorflow:Graph was finalized.\n",
            "INFO:tensorflow:Running local_init_op.\n",
            "INFO:tensorflow:Done running local_init_op.\n"
          ],
          "name": "stdout"
        },
        {
          "output_type": "execute_result",
          "data": {
            "text/plain": [
              "[<matplotlib.lines.Line2D at 0x7fcae875b650>]"
            ]
          },
          "metadata": {
            "tags": []
          },
          "execution_count": 420
        },
        {
          "output_type": "display_data",
          "data": {
            "image/png": "[encoded data removed]",
            "text/plain": [
              "<matplotlib.figure.Figure at 0x7fcae8113f90>"
            ]
          },
          "metadata": {
            "tags": []
          }
        }
      ]
    },
    {
      "metadata": {
        "id": "q1sBigCjcsbN",
        "colab_type": "code",
        "colab": {}
      },
      "cell_type": "code",
      "source": [
        ""
      ],
      "execution_count": 0,
      "outputs": []
    }
  ]
}